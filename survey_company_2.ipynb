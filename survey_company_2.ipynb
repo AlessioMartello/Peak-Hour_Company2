{
 "cells": [
  {
   "cell_type": "code",
   "execution_count": 1,
   "metadata": {},
   "outputs": [],
   "source": [
    "import pandas as pd\n",
    "from numpy import nan as NA\n",
    "import numpy as np"
   ]
  },
  {
   "cell_type": "code",
   "execution_count": 2,
   "metadata": {},
   "outputs": [],
   "source": [
    "data_combined = pd.concat(pd.read_excel('MHC-537-17 Classified Junction Count - All Sites.xlsx',ignore_index=True, sheet_name=None, header=26))\n",
    "data_raw = pd.read_excel('MHC-537-17 Classified Junction Count - All Sites.xlsx', sheet_name=None, ignore_index=True)\n",
    "hourly_totals_row = data_combined[data_combined['TIME'] == 'Hourly Total']\n",
    "movement_hourly_pcus = hourly_totals_row['PCU TOTAL']"
   ]
  },
  {
   "cell_type": "code",
   "execution_count": 3,
   "metadata": {},
   "outputs": [],
   "source": [
    "hourly_pcus_arr = np.array(movement_hourly_pcus)"
   ]
  },
  {
   "cell_type": "code",
   "execution_count": 4,
   "metadata": {},
   "outputs": [
    {
     "name": "stdout",
     "output_type": "stream",
     "text": [
      "enter the number of hours sampled: 6\n"
     ]
    }
   ],
   "source": [
    "hours = int(input(\"enter the number of hours sampled: \"))"
   ]
  },
  {
   "cell_type": "code",
   "execution_count": 5,
   "metadata": {},
   "outputs": [],
   "source": [
    "sheet_list = list(data_raw.keys())"
   ]
  },
  {
   "cell_type": "code",
   "execution_count": 6,
   "metadata": {},
   "outputs": [],
   "source": [
    "movement_list = []\n",
    "for sheet in sheet_list:\n",
    "        if 'Movement' in sheet:\n",
    "            movement_list.append(sheet)\n",
    "number_of_movements = len(movement_list)"
   ]
  },
  {
   "cell_type": "code",
   "execution_count": 7,
   "metadata": {},
   "outputs": [],
   "source": [
    "remove_variables = ['Hourly Total', 'Hourly Average', 'Session Total', 'Session Average', 'TIME']\n",
    "\n",
    "for i in remove_variables:\n",
    "    data_combined = data_combined.drop(data_combined[(data_combined['TIME'] == i)].index)\n",
    "    \n",
    "cleaned_PCU_totals = data_combined['PCU TOTAL'].dropna()"
   ]
  },
  {
   "cell_type": "code",
   "execution_count": 58,
   "metadata": {},
   "outputs": [],
   "source": [
    "arr_totals = np.array(cleaned_PCU_totals)\n",
    "number_of_time_intervals = len(arr_totals)/number_of_movements\n",
    "organised_PCU_totals = arr_totals.reshape(number_of_movements, int(number_of_time_intervals))\n",
    "quarterly_sum = np.sum(organised_PCU_totals, axis=0)\n",
    "quarterly_sum_df = pd.DataFrame(quarterly_sum)\n",
    "rolling_hour_totals = quarterly_sum_df.rolling(4,).sum()"
   ]
  },
  {
   "cell_type": "code",
   "execution_count": 62,
   "metadata": {},
   "outputs": [
    {
     "data": {
      "text/plain": [
       "array([3496.8000000000006, 3708.7000000000003, 3523.2, 3709.3, 3855.2,\n",
       "       3861.8000000000006, 3796.7000000000003, 4133.599999999999,\n",
       "       3785.7000000000007, 3923.4000000000005, 4044.1, 3690.2999999999993,\n",
       "       3716.4999999999995, 3715.8000000000006, 3722.5, 3795.3, 3700.5,\n",
       "       3987.2999999999993, 3596.2000000000007, 4290.9, 3989.9,\n",
       "       4191.9000000000015, 4108.8, 4269.6], dtype=object)"
      ]
     },
     "execution_count": 62,
     "metadata": {},
     "output_type": "execute_result"
    }
   ],
   "source": [
    "quarterly_sum"
   ]
  },
  {
   "cell_type": "code",
   "execution_count": 59,
   "metadata": {
    "scrolled": true
   },
   "outputs": [
    {
     "name": "stdout",
     "output_type": "stream",
     "text": [
      "The network hourly totals (in PCUs) are:           0\n",
      "0       NaN\n",
      "1       NaN\n",
      "2       NaN\n",
      "3   14438.0\n",
      "4   14796.4\n",
      "5   14949.5\n",
      "6   15223.0\n",
      "7   15647.3\n",
      "8   15577.8\n",
      "9   15639.4\n",
      "10  15886.8\n",
      "11  15443.5\n",
      "12  15374.3\n",
      "13  15166.7\n",
      "14  14845.1\n",
      "15  14950.1\n",
      "16  14934.1\n",
      "17  15205.6\n",
      "18  15079.3\n",
      "19  15574.9\n",
      "20  15864.3\n",
      "21  16068.9\n",
      "22  16581.5\n",
      "23  16560.2\n"
     ]
    }
   ],
   "source": [
    "print( \"The network hourly totals (in PCUs) are: \" + str(rolling_hour_totals))"
   ]
  },
  {
   "cell_type": "code",
   "execution_count": null,
   "metadata": {},
   "outputs": [],
   "source": []
  }
 ],
 "metadata": {
  "kernelspec": {
   "display_name": "Python 3",
   "language": "python",
   "name": "python3"
  },
  "language_info": {
   "codemirror_mode": {
    "name": "ipython",
    "version": 3
   },
   "file_extension": ".py",
   "mimetype": "text/x-python",
   "name": "python",
   "nbconvert_exporter": "python",
   "pygments_lexer": "ipython3",
   "version": "3.8.2"
  }
 },
 "nbformat": 4,
 "nbformat_minor": 4
}
