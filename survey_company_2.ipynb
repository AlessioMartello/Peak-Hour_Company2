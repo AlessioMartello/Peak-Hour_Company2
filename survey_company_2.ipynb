{
 "cells": [
  {
   "cell_type": "code",
   "execution_count": 1,
   "metadata": {},
   "outputs": [],
   "source": [
    "import pandas as pd\n",
    "from numpy import nan as NA\n",
    "import numpy as np\n"
   ]
  },
  {
   "cell_type": "code",
   "execution_count": 15,
   "metadata": {},
   "outputs": [],
   "source": [
    "data_combined = pd.concat(pd.read_excel('MHC-146-16 Classified Traffic Count - All Sites.xlsx',ignore_index=True, sheet_name=None, header=26))\n",
    "data_raw = pd.read_excel('MHC-146-16 Classified Traffic Count - All Sites.xlsx', sheet_name=None, ignore_index=True)\n",
    "data_combined.dropna()\n",
    "hourly_totals_row = data_combined[data_combined['TIME'] == 'Hourly Total']\n",
    "movement_hourly_pcus = hourly_totals_row['PCU TOTAL']"
   ]
  },
  {
   "cell_type": "code",
   "execution_count": 16,
   "metadata": {},
   "outputs": [],
   "source": [
    "hourly_pcus_arr = np.array(movement_hourly_pcus)"
   ]
  },
  {
   "cell_type": "code",
   "execution_count": 21,
   "metadata": {},
   "outputs": [
    {
     "name": "stdout",
     "output_type": "stream",
     "text": [
      "enter the number of hours sampled: 8\n"
     ]
    }
   ],
   "source": [
    "hours = int(input(\"enter the number of hours sampled: \"))"
   ]
  },
  {
   "cell_type": "code",
   "execution_count": 22,
   "metadata": {},
   "outputs": [],
   "source": [
    "sheet_list = list(data_raw.keys())"
   ]
  },
  {
   "cell_type": "code",
   "execution_count": 23,
   "metadata": {},
   "outputs": [],
   "source": [
    "movement_list = []\n",
    "for sheet in sheet_list:\n",
    "        if 'Movement' in sheet:\n",
    "            movement_list.append(sheet)\n",
    "number_of_movements = len(movement_list)"
   ]
  },
  {
   "cell_type": "code",
   "execution_count": 24,
   "metadata": {},
   "outputs": [],
   "source": [
    "organised_hourly_pcus_array = hourly_pcus_arr.reshape(number_of_movements, int(hours))\n",
    "network_hourly_totals = organised_hourly_pcus_array.sum(axis=0, dtype=int)"
   ]
  },
  {
   "cell_type": "code",
   "execution_count": 25,
   "metadata": {},
   "outputs": [
    {
     "name": "stdout",
     "output_type": "stream",
     "text": [
      "The network hourly totals (in PCUs) are: [29062 37961 40636 41143 40424 40497 41374 42708]\n"
     ]
    }
   ],
   "source": [
    "print( \"The network hourly totals (in PCUs) are: \" + str(network_hourly_totals))"
   ]
  },
  {
   "cell_type": "code",
   "execution_count": 26,
   "metadata": {},
   "outputs": [
    {
     "data": {
      "text/plain": [
       "42708"
      ]
     },
     "execution_count": 26,
     "metadata": {},
     "output_type": "execute_result"
    }
   ],
   "source": [
    "network_hourly_totals.max()"
   ]
  }
 ],
 "metadata": {
  "kernelspec": {
   "display_name": "Python 3",
   "language": "python",
   "name": "python3"
  },
  "language_info": {
   "codemirror_mode": {
    "name": "ipython",
    "version": 3
   },
   "file_extension": ".py",
   "mimetype": "text/x-python",
   "name": "python",
   "nbconvert_exporter": "python",
   "pygments_lexer": "ipython3",
   "version": "3.8.2"
  }
 },
 "nbformat": 4,
 "nbformat_minor": 4
}
